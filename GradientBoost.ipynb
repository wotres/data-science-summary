{
 "cells": [
  {
   "cell_type": "markdown",
   "metadata": {},
   "source": [
    "GradientBoost Algorithm\n",
    "\n",
    "Boosting 방식의 일종\n",
    "\n",
    "학습된 분류기의 약점을 알려주고 이 약점을 중점으로 보완을 하는방식 , 즉 점진적 개선이라 Gradient\n",
    "\n",
    "Leaf Node 하나로 아주 간단한 모델(A)로 시작 => 이 모델(A)로 예측하고 남은 잔차(Residual) 계산 \n",
    "\n",
    "=> 그리고 이 잔차를 예측하는 모델(B)을 만들고 기존 모델(A)와 결합하여 정답 예측한다면 기존 모델(A)보다 나은 모델(B)생성가능\n",
    "\n",
    "=> 이 방법을 반복하면서 점차 나은 예측 모델을 만드는것이 GMB\n",
    "\n",
    "=> 단점 : 과적합 =>  learning rate, regularization 을 통해 해결가능"
   ]
  },
  {
   "cell_type": "code",
   "execution_count": 1,
   "metadata": {},
   "outputs": [
    {
     "name": "stdout",
     "output_type": "stream",
     "text": [
      "[1 0 1 0 0 1 1 0 1 1 1 0 0 0 0 1 0 0 1 1 1 0 1 0 0 0 1 0 0 1]\n",
      "0.8666666666666667\n"
     ]
    },
    {
     "data": {
      "text/plain": [
       "array([0.07111068, 0.02412774, 0.        , 0.78657389, 0.        ,\n",
       "       0.        , 0.        , 0.        , 0.        , 0.        ,\n",
       "       0.        , 0.        , 0.        , 0.08634868, 0.031839  ,\n",
       "       0.        , 0.        , 0.        , 0.        , 0.        ])"
      ]
     },
     "execution_count": 1,
     "metadata": {},
     "output_type": "execute_result"
    }
   ],
   "source": [
    "from sklearn.datasets import make_classification\n",
    "from sklearn.ensemble import GradientBoostingClassifier\n",
    "from sklearn.model_selection import train_test_split\n",
    "\n",
    "X, y = make_classification(random_state=0)\n",
    "X_train, X_test, y_train, y_test = train_test_split(X, y, test_size=0.3, random_state=0)\n",
    "# learning_rate : 학습률 / n_estimators: 결정 트리개수 default 10, max_depth: 트리 깊이\n",
    "clf = GradientBoostingClassifier(learning_rate=0.05, n_estimators= 12, max_depth=10, random_state=0)\n",
    "clf.fit(X_train, y_train)\n",
    "print(clf.predict(X_test))\n",
    "\n",
    "# 정확도\n",
    "print(clf.score(X_test, y_test))\n",
    "\n",
    "# feature의 중요도 파악 \n",
    "clf.feature_importances_"
   ]
  },
  {
   "cell_type": "code",
   "execution_count": null,
   "metadata": {},
   "outputs": [],
   "source": []
  }
 ],
 "metadata": {
  "kernelspec": {
   "display_name": "Python 3",
   "language": "python",
   "name": "python3"
  },
  "language_info": {
   "codemirror_mode": {
    "name": "ipython",
    "version": 3
   },
   "file_extension": ".py",
   "mimetype": "text/x-python",
   "name": "python",
   "nbconvert_exporter": "python",
   "pygments_lexer": "ipython3",
   "version": "3.7.4"
  }
 },
 "nbformat": 4,
 "nbformat_minor": 2
}
