{
 "cells": [
  {
   "cell_type": "markdown",
   "metadata": {},
   "source": [
    "label encoder\n",
    "\n",
    "문자형을 인트형으로 변형해줌\n",
    "\n",
    "문자형을 숫자형으로 LabelEncoder 를 통해 변형시킨뒤 이를 OneHotEncoder 로 하는것이 젤 정확할듯.\n"
   ]
  },
  {
   "cell_type": "code",
   "execution_count": 1,
   "metadata": {},
   "outputs": [
    {
     "data": {
      "text/html": [
       "<div>\n",
       "<style scoped>\n",
       "    .dataframe tbody tr th:only-of-type {\n",
       "        vertical-align: middle;\n",
       "    }\n",
       "\n",
       "    .dataframe tbody tr th {\n",
       "        vertical-align: top;\n",
       "    }\n",
       "\n",
       "    .dataframe thead th {\n",
       "        text-align: right;\n",
       "    }\n",
       "</style>\n",
       "<table border=\"1\" class=\"dataframe\">\n",
       "  <thead>\n",
       "    <tr style=\"text-align: right;\">\n",
       "      <th></th>\n",
       "      <th>x1</th>\n",
       "      <th>x2</th>\n",
       "      <th>con</th>\n",
       "    </tr>\n",
       "  </thead>\n",
       "  <tbody>\n",
       "    <tr>\n",
       "      <td>0</td>\n",
       "      <td>paris</td>\n",
       "      <td>amsterdam</td>\n",
       "      <td>0</td>\n",
       "    </tr>\n",
       "    <tr>\n",
       "      <td>1</td>\n",
       "      <td>paris</td>\n",
       "      <td>tokyo</td>\n",
       "      <td>1</td>\n",
       "    </tr>\n",
       "    <tr>\n",
       "      <td>2</td>\n",
       "      <td>tokyo</td>\n",
       "      <td>paris</td>\n",
       "      <td>2</td>\n",
       "    </tr>\n",
       "    <tr>\n",
       "      <td>3</td>\n",
       "      <td>amsterdam</td>\n",
       "      <td>paris</td>\n",
       "      <td>3</td>\n",
       "    </tr>\n",
       "  </tbody>\n",
       "</table>\n",
       "</div>"
      ],
      "text/plain": [
       "          x1         x2  con\n",
       "0      paris  amsterdam    0\n",
       "1      paris      tokyo    1\n",
       "2      tokyo      paris    2\n",
       "3  amsterdam      paris    3"
      ]
     },
     "execution_count": 1,
     "metadata": {},
     "output_type": "execute_result"
    }
   ],
   "source": [
    "from sklearn import preprocessing\n",
    "X = [\"paris\", \"paris\", \"tokyo\", \"amsterdam\"]\n",
    "le = preprocessing.LabelEncoder()\n",
    "le.fit(X)\n",
    "# 클래스 종류\n",
    "le.classes_\n",
    "le.transform([\"paris\", \"paris\", \"tokyo\", \"amsterdam\"])\n",
    "\n",
    "le.inverse_transform([0, 0, 1, 2])\n",
    "\n",
    "# 만약 두개의 컬럼을 조합하여 라벨링 하고 싶다면\n",
    "import pandas as pd\n",
    "import numpy as np\n",
    "X1 = X\n",
    "X2 = X[::-1]\n",
    "X12 = np.array([X1,X2]).T.tolist()\n",
    "df = pd.DataFrame(X12, columns=['x1','x2'])\n",
    "temp = pd.DataFrame(df.groupby(['x1','x2']).count().index.values, columns=['x12'])\n",
    "df['con'] = le.fit_transform(temp.x12.astype('str'))\n",
    "df"
   ]
  },
  {
   "cell_type": "code",
   "execution_count": null,
   "metadata": {},
   "outputs": [],
   "source": []
  }
 ],
 "metadata": {
  "kernelspec": {
   "display_name": "Python 3",
   "language": "python",
   "name": "python3"
  },
  "language_info": {
   "codemirror_mode": {
    "name": "ipython",
    "version": 3
   },
   "file_extension": ".py",
   "mimetype": "text/x-python",
   "name": "python",
   "nbconvert_exporter": "python",
   "pygments_lexer": "ipython3",
   "version": "3.7.4"
  }
 },
 "nbformat": 4,
 "nbformat_minor": 2
}
