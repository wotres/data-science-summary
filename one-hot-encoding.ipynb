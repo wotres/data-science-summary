{
 "cells": [
  {
   "cell_type": "markdown",
   "metadata": {},
   "source": [
    "one-hot encoding \n",
    "\n",
    "one-hot(원핫)인코딩이란? 단 하나의 값만 True이고 나머지는 모두 False인 인코딩\n",
    "\n",
    "변수를 가변수(dummy variable) 형태로 변환 / 변수를 one-hot encoding 기법을 통해 변환 하는 두가지 방법이 있음\n"
   ]
  },
  {
   "cell_type": "code",
   "execution_count": 2,
   "metadata": {},
   "outputs": [
    {
     "name": "stdout",
     "output_type": "stream",
     "text": [
      "   a  b  c\n",
      "0  1  0  0\n",
      "1  0  1  0\n",
      "2  0  0  1\n",
      "3  1  0  0\n",
      "[[0. 1. 1. 0. 0.]\n",
      " [1. 0. 0. 0. 1.]\n",
      " [1. 0. 0. 1. 0.]]\n",
      "[array(['Female', 'Male'], dtype=object), array([1, 2, 3], dtype=object)]\n"
     ]
    },
    {
     "data": {
      "text/plain": [
       "array([[1., 0., 0.],\n",
       "       [0., 0., 1.],\n",
       "       [0., 1., 0.]])"
      ]
     },
     "execution_count": 2,
     "metadata": {},
     "output_type": "execute_result"
    }
   ],
   "source": [
    "import pandas as pd\n",
    "s = pd.Series(list('abca'))\n",
    "print(pd.get_dummies(s))\n",
    "\n",
    "# 변수개수 하나 줄일때 drop_first=True\n",
    "temp = pd.get_dummies(s, drop_first=True, prefix='dummies', prefix_sep='_')\n",
    "df = pd.concat([s,temp], axis=1)\n",
    "df\n",
    "\n",
    "# one-hot encoder 사용하여 변형\n",
    "from sklearn.preprocessing import OneHotEncoder\n",
    "X = [['Male', 1], ['Female', 3], ['Female', 2]]\n",
    "enc = OneHotEncoder(handle_unknown='ignore')\n",
    "enc.fit(X)\n",
    "print(enc.transform(X).toarray())\n",
    "# 각 카테고리 확인\n",
    "print(enc.categories_)\n",
    "\n",
    "# 학습된 encoder를 바탕으로 변환\n",
    "enc.transform([['Female', 1], ['Male', 4]]).toarray()\n",
    "\n",
    "# one-hot encoding 상태에서 다시 원복\n",
    "enc.inverse_transform([[0, 1, 1, 0, 0], [0, 0, 0, 1, 0]])\n",
    "\n",
    "# 각 피쳐의 이름 얻기\n",
    "enc.get_feature_names(['gender', 'group'])\n",
    "\n",
    "# 하나를 제거하여 수행\n",
    "drop_enc = OneHotEncoder(drop='first').fit(X)\n",
    "drop_enc.transform(X).toarray()\n"
   ]
  },
  {
   "cell_type": "code",
   "execution_count": null,
   "metadata": {},
   "outputs": [],
   "source": []
  }
 ],
 "metadata": {
  "kernelspec": {
   "display_name": "Python 3",
   "language": "python",
   "name": "python3"
  },
  "language_info": {
   "codemirror_mode": {
    "name": "ipython",
    "version": 3
   },
   "file_extension": ".py",
   "mimetype": "text/x-python",
   "name": "python",
   "nbconvert_exporter": "python",
   "pygments_lexer": "ipython3",
   "version": "3.7.4"
  }
 },
 "nbformat": 4,
 "nbformat_minor": 2
}
