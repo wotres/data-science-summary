{
 "cells": [
  {
   "cell_type": "markdown",
   "metadata": {},
   "source": [
    "AdaBoost\n",
    "\n",
    "Boosting 방식의 일종\n",
    "\n",
    "Decision Tree 를 만드는데 2개의 Leaf Node만 가지는 Tree 를 여러개(결국 feature 수만큼 stump 생성) 만든다. => 나무가 작은 즉, 그루터기(Stump) 라고 부름\n",
    "\n",
    "만들어진 Stump 들을 순차적으로 사용하여 예측 \n",
    "\n",
    "=> 그리고 데이터를 샘플링 할 때 각 데이터 마다 Weight를 줌(초기 weight 값은 1/전체 데이터수) \n",
    "\n",
    "Stump 를 거치면서 잘못 예측된 데이터는 weight 는 점점 커짐\n",
    "\n",
    "그럼 Stump 의 순서도 중요한데 각 Stump 중 가장 불순도(Inpurity)가 작은 Stump 를 먼저 사용\n",
    "\n",
    "그런뒤 Weight 를 갱신하기 전에 \n",
    "\n",
    "정확도(amount of say)를 구하고 틀린 데이터는 기존 Weight * e^정확도 만큼 변경하여 크게, 맞은 데이터는 기존 Weight * e^-정확도 만큼 변경시\n",
    "켜 작게 만들어준다. \n",
    "\n",
    "그리고 이렇게 갱신된 Weight 를 softmax 방식처럼 총 합이 1이 되도록 비율을 다시 정해준다.\n",
    "\n",
    "그런뒤 새롭게 데이터 셋을 뽑는데 weight가 큰 것 위주로 데이터를 선택한다. => 틀린것 위주로 자연스럽게 데이터\n",
    "\n",
    "그리고 새롭게 뽑힌 데이터 셋의 weight는 초기화 하고 학습을 반복한다. (초기 weight 값은 1/전체 데이터수)"
   ]
  },
  {
   "cell_type": "code",
   "execution_count": 1,
   "metadata": {},
   "outputs": [
    {
     "data": {
      "text/plain": [
       "0.945"
      ]
     },
     "execution_count": 1,
     "metadata": {},
     "output_type": "execute_result"
    }
   ],
   "source": [
    "from sklearn.ensemble import AdaBoostClassifier\n",
    "from sklearn.datasets import make_classification\n",
    "X, y = make_classification(n_samples=1000, n_features=4,\n",
    "                           n_informative=2, n_redundant=0,\n",
    "                           random_state=0, shuffle=False)\n",
    "from sklearn.model_selection import train_test_split\n",
    "train_x, test_x, train_y, test_y = train_test_split(X, y, test_size=0.2, random_state=123)\n",
    "\n",
    "clf = AdaBoostClassifier(n_estimators=100, random_state=0)\n",
    "clf.fit(train_x, train_y)\n",
    "\n",
    "clf.predict(test_x)\n",
    "\n",
    "# 정확도를 보면 꽤 높다.\n",
    "clf.score(test_x, test_y)"
   ]
  },
  {
   "cell_type": "code",
   "execution_count": null,
   "metadata": {},
   "outputs": [],
   "source": []
  }
 ],
 "metadata": {
  "kernelspec": {
   "display_name": "Python 3",
   "language": "python",
   "name": "python3"
  },
  "language_info": {
   "codemirror_mode": {
    "name": "ipython",
    "version": 3
   },
   "file_extension": ".py",
   "mimetype": "text/x-python",
   "name": "python",
   "nbconvert_exporter": "python",
   "pygments_lexer": "ipython3",
   "version": "3.7.4"
  }
 },
 "nbformat": 4,
 "nbformat_minor": 2
}
