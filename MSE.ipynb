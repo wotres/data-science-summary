{
 "cells": [
  {
   "cell_type": "markdown",
   "metadata": {},
   "source": [
    "회귀 (연속형 변수) 측정\n",
    "\n",
    "MSE, RMSE, MAE, MPE, MAPE 사용하여 계산\n",
    "\n",
    "모두 Mean Error 가 들어간다. => 즉 평균을 계산할수 있는 연속형 변수 측정에 사용한다."
   ]
  },
  {
   "cell_type": "code",
   "execution_count": 4,
   "metadata": {},
   "outputs": [
    {
     "name": "stdout",
     "output_type": "stream",
     "text": [
      "2926.8005772468837 2926.8005772468828\n",
      "54.09991291348706 54.099912913487046\n",
      "44.48057319064363 44.48057319064366\n",
      "-19.39964443585402\n",
      "39.72672552788672\n"
     ]
    }
   ],
   "source": [
    "import pandas as pd\n",
    "import numpy as np\n",
    "from sklearn import datasets\n",
    "from sklearn.model_selection import train_test_split\n",
    "datas = datasets.load_diabetes()\n",
    "datas.target\n",
    "df = pd.DataFrame(datas.data, columns = datas.feature_names)\n",
    "y = pd.DataFrame(datas.target, columns = ['y'])\n",
    "df = pd.concat([df, y], axis=1)\n",
    "train, test = train_test_split(df, test_size=0.3, random_state=123)\n",
    "\n",
    "from sklearn.linear_model import LinearRegression\n",
    "lr = LinearRegression()\n",
    "lr.fit(train.drop(columns='y'), train.y)\n",
    "y_pred = lr.predict(test.drop(columns='y'))\n",
    "y_true = test.y\n",
    "\n",
    "# 평균 제곱 오차 mean squared error\n",
    "from sklearn.metrics import mean_squared_error\n",
    "mse = mean_squared_error(y_true, y_pred)\n",
    "\n",
    "def MSE(y, pred):\n",
    "  return np.mean(np.square(y-pred))\n",
    "\n",
    "print(MSE(y_true, y_pred), mse)\n",
    "\n",
    "# 평균 제곱근 오차 root mean squared error\n",
    "from sklearn.metrics import mean_squared_error\n",
    "rmse = np.sqrt(mean_squared_error(y_true, y_pred))\n",
    "\n",
    "def RMSE(y, pred):\n",
    "  return np.sqrt(np.mean(np.square(y-pred)))\n",
    "\n",
    "print(RMSE(y_true, y_pred), rmse)\n",
    "\n",
    "# 평균 절대 오차 mean absolute error\n",
    "from sklearn.metrics import mean_absolute_error\n",
    "mae = mean_absolute_error(y_true, y_pred)\n",
    "\n",
    "def MAE(y, pred):\n",
    "  return np.mean(np.abs(y-pred))\n",
    "\n",
    "print(MAE(y_true, y_pred), mae)\n",
    "\n",
    "# 평균 백분율 오차 mean absolute percentage error\n",
    "def MPE(y, pred):\n",
    "  return np.mean((y-pred)/y)*100\n",
    "\n",
    "print(MPE(y_true, y_pred))\n",
    "\n",
    "# 평균 절대 백분율 오차 mean percentage error\n",
    "def MAPE(y, pred):\n",
    "  return np.mean(np.abs((y-pred)/y)*100)\n",
    "\n",
    "print(MAPE(y_true, y_pred))"
   ]
  },
  {
   "cell_type": "code",
   "execution_count": null,
   "metadata": {},
   "outputs": [],
   "source": []
  }
 ],
 "metadata": {
  "kernelspec": {
   "display_name": "Python 3",
   "language": "python",
   "name": "python3"
  },
  "language_info": {
   "codemirror_mode": {
    "name": "ipython",
    "version": 3
   },
   "file_extension": ".py",
   "mimetype": "text/x-python",
   "name": "python",
   "nbconvert_exporter": "python",
   "pygments_lexer": "ipython3",
   "version": "3.7.4"
  }
 },
 "nbformat": 4,
 "nbformat_minor": 2
}
