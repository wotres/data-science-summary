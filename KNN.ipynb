{
 "cells": [
  {
   "cell_type": "markdown",
   "metadata": {},
   "source": [
    "KNN (k-neareast neighbor) 분류모델\n",
    "\n",
    "근처 k개의 가장 가까운 훈련 데이터로 값을 예측하는방법\n",
    "\n",
    "궁금한 데이터 주변 K 개의 데이터의 클래스가 1 이 제일 많으면 1 이 됨\n",
    "\n",
    "거리 측정하는 방식에는 유클리디안방식, 맨헤탄 방식등이 있다.\n",
    "\n",
    "보통 판정하기위해 K 는 홀수로 측정한다.\n",
    "\n",
    "장점은 쉽고 직관적이고 높은 정확도를 가지고 있다. \n",
    "\n",
    "단점은 느리다.\n",
    "\n"
   ]
  },
  {
   "cell_type": "code",
   "execution_count": 1,
   "metadata": {},
   "outputs": [
    {
     "name": "stdout",
     "output_type": "stream",
     "text": [
      "k가 1일때 정확도는 1.0\n",
      "k가 3일때 정확도는 1.0\n",
      "k가 5일때 정확도는 1.0\n",
      "k가 7일때 정확도는 0.5\n"
     ]
    }
   ],
   "source": [
    "# KNN (k-neareast neighbor) 분류모델\n",
    "from sklearn.neighbors import KNeighborsClassifier\n",
    "X = [[0,1,2], [1,3,5], [1,10,10],[1,2,2],[1,3,4],[2,7,8], [3,3,10]]\n",
    "y = [0, 0, 1, 0,0,1,1]\n",
    "# 유클리디안방식\n",
    "knn = KNeighborsClassifier(n_neighbors=3, metric='euclidean')\n",
    "knn = KNeighborsClassifier(n_neighbors=3, p=2) \n",
    "\n",
    "# 맨헤탄 방식\n",
    "knn = KNeighborsClassifier(n_neighbors=3, metric='manhattan')\n",
    "knn = KNeighborsClassifier(n_neighbors=3, p=1)\n",
    "\n",
    "# 학습\n",
    "knn.fit(X, y)\n",
    "test_x = [[1,2,3],[1,9,9]]\n",
    "test_y = [0, 1]\n",
    "# 예측\n",
    "knn.predict(test_x)\n",
    "\n",
    "import numpy as np\n",
    "# k 에 따른 정확도 \n",
    "k = np.arange(1,8)[::2]\n",
    "acc =[]\n",
    "for i in k:\n",
    "  knn =KNeighborsClassifier(n_neighbors=i).fit(X,y)\n",
    "  acc.append(knn.score(test_x, test_y))\n",
    "\n",
    "for i,j in zip(k,acc):\n",
    "  print('k가 '+ str(i)+'일때 정확도는 ' + str(j))"
   ]
  },
  {
   "cell_type": "code",
   "execution_count": null,
   "metadata": {},
   "outputs": [],
   "source": []
  }
 ],
 "metadata": {
  "kernelspec": {
   "display_name": "Python 3",
   "language": "python",
   "name": "python3"
  },
  "language_info": {
   "codemirror_mode": {
    "name": "ipython",
    "version": 3
   },
   "file_extension": ".py",
   "mimetype": "text/x-python",
   "name": "python",
   "nbconvert_exporter": "python",
   "pygments_lexer": "ipython3",
   "version": "3.7.4"
  }
 },
 "nbformat": 4,
 "nbformat_minor": 2
}
