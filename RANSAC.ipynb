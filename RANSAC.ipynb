{
 "cells": [
  {
   "cell_type": "markdown",
   "metadata": {},
   "source": [
    "RANSAC(RANdom Sample Consensus)\n",
    "\n",
    "최소자승법(Linear Least Square)을 통한 예측은 아웃라이어가 있으면 크게 영향을 받는 반면\n",
    "\n",
    "RANSAN은 가장 많은 수의 데이터들이 예측 모델 근방에 있는 모델을 선택하는 방법으로 아웃라이어에 강건하다.\n",
    "\n",
    "데이터의 특정 두 점 또는 3점을 랜덤 선택하고 이 점으로 모델을 계산\n",
    "\n",
    "=> 모델 주위(오차범위내)의 데이터 개수를 계산 \n",
    "\n",
    "=> 계산한 결과가 원하는 데이터 개수보다 적으면 다시 현재 오차범위내 데이터들로 다시 모델을 추정\n",
    "\n",
    "=> 원하는 데이터 개수를 만족하면 모델을 저장\n",
    "\n",
    "=> 이를 원하는 만큼 반복한뒤 최적의 모델 선택"
   ]
  },
  {
   "cell_type": "code",
   "execution_count": 2,
   "metadata": {},
   "outputs": [
    {
     "data": {
      "text/plain": [
       "1.0"
      ]
     },
     "execution_count": 2,
     "metadata": {},
     "output_type": "execute_result"
    }
   ],
   "source": [
    "from sklearn.linear_model import RANSACRegressor\n",
    "from sklearn.model_selection import train_test_split\n",
    "# 회귀용 가상 데이터 생성\n",
    "from sklearn.datasets import make_regression\n",
    "# n_samples: 표본 데이터 수 , n_features: 독립변수 수, n_informative: 독립변수중 종속변수와 상관관계 있는 성분 수\n",
    "X, y = make_regression(n_samples=10000, n_features=10, n_informative=5, random_state=123)\n",
    "X_train, X_test, y_train, y_test = train_test_split(X, y, test_size=0.3, random_state=123)\n",
    "\n",
    "from sklearn.linear_model import RANSACRegressor\n",
    "reg = RANSACRegressor().fit(X, y)\n",
    "reg.score(X_train, y_train)\n",
    "\n",
    "reg.predict(X_test)\n",
    "reg.score(X_test, y_test)"
   ]
  },
  {
   "cell_type": "code",
   "execution_count": null,
   "metadata": {},
   "outputs": [],
   "source": []
  }
 ],
 "metadata": {
  "kernelspec": {
   "display_name": "Python 3",
   "language": "python",
   "name": "python3"
  },
  "language_info": {
   "codemirror_mode": {
    "name": "ipython",
    "version": 3
   },
   "file_extension": ".py",
   "mimetype": "text/x-python",
   "name": "python",
   "nbconvert_exporter": "python",
   "pygments_lexer": "ipython3",
   "version": "3.7.4"
  }
 },
 "nbformat": 4,
 "nbformat_minor": 2
}
