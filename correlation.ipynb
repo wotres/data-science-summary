{
 "cells": [
  {
   "cell_type": "markdown",
   "metadata": {},
   "source": [
    "#### 상관분석 (Correlation)\n",
    "\n",
    "두 변수간에 어떤 선형적 관계를 가지고 있는지 분석하는 방법\n",
    "\n",
    "관계정도를 나타낸 것을 상관계수라고 함\n",
    "\n",
    "공분산 역시 관계를 나타내지만 공분산에서 두 변수 각각의 표준편차로 나눠주어 단위에 따른 영향을 제거하고 값을 -1 ~ 1 사이로 정해줌 \n",
    "\n",
    "상관계수가 절대값 1에 가까울 수록 강한 선형 관계를 나타냄\n",
    "\n",
    "pearson 상관계수를 제곱하면 분산에서 공유하는 비율\n",
    "\n",
    "만약 X, Y의 상관계수가 0.4 이면 그 제곱은 0.16 으로 x의 분산중 16% 를 y와 공유 또는 y로 설명됨, 선형적관계만 설명가능\n",
    "\n",
    "상관계수에는 일반적으로 사용하는 pearson과 서열척도에 사용하는 spearnman, kendal 방식이 있음"
   ]
  },
  {
   "cell_type": "code",
   "execution_count": 2,
   "metadata": {},
   "outputs": [
    {
     "name": "stdout",
     "output_type": "stream",
     "text": [
      "[[11.71       -4.286     ]\n",
      " [-4.286       2.14413333]]\n",
      "-0.8553578095227946\n",
      "-0.8553578095227946\n",
      "(-0.8553578095227946, 0.3466745939778303)\n",
      "SpearmanrResult(correlation=0.8207826816681233, pvalue=0.08858700531354381)\n",
      "0.8207826816681233\n",
      "KendalltauResult(correlation=0.7378647873726218, pvalue=0.07697417298126683)\n",
      "          dogs      cats\n",
      "dogs  1.000000 -0.851064\n",
      "cats -0.851064  1.000000\n",
      "          dogs      cats\n",
      "dogs  1.000000 -0.948683\n",
      "cats -0.948683  1.000000\n",
      "          dogs      cats\n",
      "dogs  1.000000 -0.912871\n",
      "cats -0.912871  1.000000\n"
     ]
    }
   ],
   "source": [
    "import numpy as np\n",
    "from scipy import stats\n",
    "\n",
    "x = [-2.1, -1,  4.3]\n",
    "y = [3,  1.1,  0.12]\n",
    "# 공분산\n",
    "print(np.cov(x,y))\n",
    "# 공분산에 표준편차 나눠줌\n",
    "# ddof = 1 은 n-1로 나눈 경우 => 자유도\n",
    "print(np.cov(x,y)[0,1]/ (np.std(x, ddof=1)* np.std(y, ddof=1)))\n",
    "print(np.corrcoef(x,y)[0,1])\n",
    "\n",
    "#pearson 상관계수\n",
    "print(stats.pearsonr(x,y)) # 상관계수 & p_value\n",
    "\n",
    "# spearman\n",
    "# 서열 척도를 사용한 변수일떄 사용\n",
    "x = [1,2,3,4,5]\n",
    "y = [5,6,7,8,7]\n",
    "print(stats.spearmanr(x,y)) # 상관계수 & p_value\n",
    "print(stats.spearmanr(x,y).correlation)\n",
    "\n",
    "# kendall\n",
    "# 비선형적관계이거나 서열변수일때 사용\n",
    "print(stats.kendalltau(x,y)) # 상관계수 & p_value\n",
    "\n",
    "# pandas 로 위 3개 가능\n",
    "import pandas as pd\n",
    "df = pd.DataFrame([(.2, .3), (.0, .6), (.6, .0), (.2, .1)],\n",
    "                  columns=['dogs', 'cats'])\n",
    "print(df.corr(method='pearson'))\n",
    "print(df.corr(method='spearman'))\n",
    "print(df.corr(method='kendall'))"
   ]
  },
  {
   "cell_type": "code",
   "execution_count": null,
   "metadata": {},
   "outputs": [],
   "source": []
  }
 ],
 "metadata": {
  "kernelspec": {
   "display_name": "Python 3",
   "language": "python",
   "name": "python3"
  },
  "language_info": {
   "codemirror_mode": {
    "name": "ipython",
    "version": 3
   },
   "file_extension": ".py",
   "mimetype": "text/x-python",
   "name": "python",
   "nbconvert_exporter": "python",
   "pygments_lexer": "ipython3",
   "version": "3.7.4"
  }
 },
 "nbformat": 4,
 "nbformat_minor": 2
}
