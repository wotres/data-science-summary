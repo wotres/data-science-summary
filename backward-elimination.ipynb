{
 "cells": [
  {
   "cell_type": "markdown",
   "metadata": {},
   "source": [
    "#### 후진 제거법 (Backward Elimination)\n",
    "\n",
    "feature selection 의 일환으로 변수를 줄인다.\n",
    "\n",
    "모든 독립변수(설명변수)를 고려한 모델에서 유의하지 않은 설명변수를 하나씩 제거하는 방법\n",
    "\n",
    "=> 모든 변수를 입력한 뒤 가장 유의확률이 큰 설명 변수를 제외한다. \n",
    "\n",
    "모든 설명변수가 유의하다 판정될때 까지 반복한다.\n",
    "\n",
    "#### 전진삽입법 (forward Selection)\n",
    "\n",
    "feature selection 의 일환으로 변수를 줄인다.\n",
    "\n",
    "아무런 변수가 선택되지않은 단계에서 설명력이 가장 높은 변수 선택, 그 후 남은 변수들중 설명력이 가장 유의한 변수 또 선택, 이 같은 작업 반복 mlxtend.SFS\n",
    "\n",
    "#### 단계적선택법(stepwise Selection)\n",
    "\n",
    "forward와 유사하지만 한번 선택된 변수에 대해 유의성 검정을 다시 실시한다. \n",
    "\n",
    "유의하지않은 경우 제거가 가능하다."
   ]
  },
  {
   "cell_type": "code",
   "execution_count": 2,
   "metadata": {},
   "outputs": [
    {
     "data": {
      "text/plain": [
       "array([1, 1, 1, 2, 1, 1, 1, 1, 3, 1])"
      ]
     },
     "execution_count": 2,
     "metadata": {},
     "output_type": "execute_result"
    }
   ],
   "source": [
    "# 반복적 변수 제거를 하여 변수별 중요도를 도출\n",
    "from sklearn.feature_selection import RFE\n",
    "\n",
    "# 회귀용 가상 데이터 생성\n",
    "from sklearn.datasets import make_regression\n",
    "# n_samples: 표본 데이터 수 , n_features: 독립변수 수, n_informative: 독립변수중 종속변수와 상관관계 있는 성분 수\n",
    "X, y = make_regression(n_samples=1000, n_features=10, n_informative=5, random_state=1)\n",
    "\n",
    "from sklearn.linear_model import LinearRegression\n",
    "lr = LinearRegression()\n",
    "# 모델 입력, n_features_to_select: 골라낼 변수의 수, step: 한번에 몇개씩 제거할지 선택\n",
    "rfe = RFE(lr, n_features_to_select=8, step=1)\n",
    "model = rfe.fit(X,y)\n",
    "# 선택될 변수\n",
    "model.support_\n",
    "\n",
    "# 변수 중요도(숫자 높을수록 불필요하다)\n",
    "model.ranking_\n"
   ]
  },
  {
   "cell_type": "code",
   "execution_count": null,
   "metadata": {},
   "outputs": [],
   "source": []
  }
 ],
 "metadata": {
  "kernelspec": {
   "display_name": "Python 3",
   "language": "python",
   "name": "python3"
  },
  "language_info": {
   "codemirror_mode": {
    "name": "ipython",
    "version": 3
   },
   "file_extension": ".py",
   "mimetype": "text/x-python",
   "name": "python",
   "nbconvert_exporter": "python",
   "pygments_lexer": "ipython3",
   "version": "3.7.4"
  }
 },
 "nbformat": 4,
 "nbformat_minor": 2
}
