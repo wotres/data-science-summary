{
 "cells": [
  {
   "cell_type": "markdown",
   "metadata": {},
   "source": [
    "LightGBM (Gradient Boosting Algorithm)\n",
    "\n",
    "기존 Gradient Boostring 과 같은 알고리즘은 트리 구조를 균형을 잡기위해 즉, 깊이를 줄이기위해 균형 트리(level wise) 방식으로 쌓아같지만\n",
    "\n",
    "LightGBM 은 균형보다는 리프 노드를 지속적으로 쭉 분할(leaf wise)하면서 진행하여 비대칭이고 깊은 트리를 만든다. \n",
    "\n",
    "따라서 연산이 덜 요구되어 빠르며 균형 트리 보다는 손실을 줄일수 있음\n",
    "\n",
    "대용량 처리 가능, 다른 모델들보다 더 적은 자원을 사용하고 빠르다는 장점을 가지고 있음\n",
    "\n",
    "단점은 너무 적은수의 데이터일 경우에는 과적합 문제가 발생할수 있음"
   ]
  },
  {
   "cell_type": "code",
   "execution_count": 1,
   "metadata": {},
   "outputs": [
    {
     "name": "stdout",
     "output_type": "stream",
     "text": [
      "[1 0 1 0 0 1 1 0 1 1 1 0 0 1 0 1 0 0 1 1 1 0 1 0 0 0 1 0 0 0]\n",
      "0.8666666666666667\n"
     ]
    },
    {
     "data": {
      "text/plain": [
       "array([ 0,  0,  0, 10,  0,  0,  0,  0,  0,  0,  0,  0,  0,  0,  0,  0,  0,\n",
       "        0,  0,  0])"
      ]
     },
     "execution_count": 1,
     "metadata": {},
     "output_type": "execute_result"
    }
   ],
   "source": [
    "from sklearn.datasets import make_classification\n",
    "from lightgbm import LGBMClassifier\n",
    "from sklearn.model_selection import train_test_split\n",
    "\n",
    "X, y = make_classification(random_state=0)\n",
    "X_train, X_test, y_train, y_test = train_test_split(X, y, test_size=0.3, random_state=0)\n",
    "# learning_rate : 학습률 / n_estimators: 결정 트리개수, max_depth: 트리 깊이\n",
    "clf = LGBMClassifier(learning_rate=0.05, n_estimators=10, max_depth=10)\n",
    "clf.fit(X_train, y_train)\n",
    "print(clf.predict(X_test))\n",
    "\n",
    "# 정확도\n",
    "print(clf.score(X_test, y_test))\n",
    "# feature의 중요도 파악 \n",
    "clf.feature_importances_"
   ]
  },
  {
   "cell_type": "code",
   "execution_count": null,
   "metadata": {},
   "outputs": [],
   "source": []
  }
 ],
 "metadata": {
  "kernelspec": {
   "display_name": "Python 3",
   "language": "python",
   "name": "python3"
  },
  "language_info": {
   "codemirror_mode": {
    "name": "ipython",
    "version": 3
   },
   "file_extension": ".py",
   "mimetype": "text/x-python",
   "name": "python",
   "nbconvert_exporter": "python",
   "pygments_lexer": "ipython3",
   "version": "3.7.4"
  }
 },
 "nbformat": 4,
 "nbformat_minor": 2
}
