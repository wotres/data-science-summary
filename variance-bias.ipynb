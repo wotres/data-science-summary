{
 "cells": [
  {
   "cell_type": "markdown",
   "metadata": {},
   "source": [
    "Variance 와 Bias는 Trade-off 관계\n",
    "\n",
    "Variance = 분산: 예측값이 변동되는 정도 = 예측값들이 얼마나 서로 떨어져있는가\n",
    "\n",
    "Bias = 편향: 실제 문제를 단순한 모델로 추측하여 오차가 발생하는것 = 실제값에서 얼마나 멀어졌는가\n",
    "\n",
    "모델이 복잡해질수록 분산은 높아지고 편향은 낮아진다. => 오버피팅됨 => 해결법: regularization, k-fold, early stop learning , dropout\n",
    "\n",
    "모델이 덜복잡할수록 분산은 낮아지고 편향은 높아진다. => 언더 피팅됨 => 해결법: feature 를 더 많이 반영하거나 복잡한 모델사용\n",
    "\n",
    "분산과 편향을 동시에 최대한 낮추는 지점을 학습법으로 정해야함"
   ]
  },
  {
   "cell_type": "code",
   "execution_count": null,
   "metadata": {},
   "outputs": [],
   "source": []
  }
 ],
 "metadata": {
  "kernelspec": {
   "display_name": "Python 3",
   "language": "python",
   "name": "python3"
  },
  "language_info": {
   "codemirror_mode": {
    "name": "ipython",
    "version": 3
   },
   "file_extension": ".py",
   "mimetype": "text/x-python",
   "name": "python",
   "nbconvert_exporter": "python",
   "pygments_lexer": "ipython3",
   "version": "3.7.4"
  }
 },
 "nbformat": 4,
 "nbformat_minor": 2
}
