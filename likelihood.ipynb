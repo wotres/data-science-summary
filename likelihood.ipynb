{
 "cells": [
  {
   "cell_type": "markdown",
   "metadata": {},
   "source": [
    "likelihood 와 maximum likelihood method 란?\n",
    "\n",
    "헷갈리는 개념인 likelihood는 확률과 비교하면 이해가 쉽다.\n",
    "\n",
    "확률은 모수가 특정값을 같은다와 같이 정의됨 ex) 동전 2번 던지니 모두 앞면이 나올 확률은 1/4 이다.\n",
    "\n",
    "likelihood는 동전을 던져서 모두 앞면 나온 확률이 1/4일때 동전의 앞면 확률이 될 가능성이 있는 값을 역추적으로 찾는것\n",
    "\n",
    "그리고 이때 가장 가능성을 크게 만드는것을 Maximum likelihood Method 라고 하며 미분의 극점 등을 이용해 최대로 나오는 1/2을 추정한다.\n",
    "\n",
    "즉, 특정 사건이 이미 발생했을때(알고있을때) 그 확률을 계산할 수 있는 가능성을 가진 값\n",
    "\n",
    "그리고 maximum likelihood method로 최대 가능 우도 즉, 가장 큰 가능성의 값을 찾는것"
   ]
  },
  {
   "cell_type": "code",
   "execution_count": null,
   "metadata": {},
   "outputs": [],
   "source": []
  }
 ],
 "metadata": {
  "kernelspec": {
   "display_name": "Python 3",
   "language": "python",
   "name": "python3"
  },
  "language_info": {
   "codemirror_mode": {
    "name": "ipython",
    "version": 3
   },
   "file_extension": ".py",
   "mimetype": "text/x-python",
   "name": "python",
   "nbconvert_exporter": "python",
   "pygments_lexer": "ipython3",
   "version": "3.7.4"
  }
 },
 "nbformat": 4,
 "nbformat_minor": 2
}
