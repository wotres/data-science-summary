{
 "cells": [
  {
   "cell_type": "code",
   "execution_count": 4,
   "metadata": {},
   "outputs": [
    {
     "data": {
      "text/plain": [
       "-2.098602258096087"
      ]
     },
     "execution_count": 4,
     "metadata": {},
     "output_type": "execute_result"
    }
   ],
   "source": [
    "# 왜도(skew) / 첨도(kurtosis) 구하기\n",
    "from scipy.stats import skew, kurtosis\n",
    "import pandas as pd\n",
    "df = pd.DataFrame([2, 8, 0, 4, 1, 9, 9, 0], columns=['a'])\n",
    "\n",
    "# 추정량과 실제 모수와의 차이 있는 경우 => bias = True\n",
    "skew(df['a'])\n",
    "kurtosis(df['a'])\n",
    "\n",
    "# 추정량과 실제 모수와의 차이 없는 경우(불편추정량 즉, 모수와 샘플 동일한 추정량으로 가정) => bias = False\n",
    "skew(df['a'], bias=False)\n",
    "kurtosis(df['a'], bias=False)\n",
    "\n",
    "df.a.skew()\n",
    "df.a.kurtosis()"
   ]
  },
  {
   "cell_type": "code",
   "execution_count": null,
   "metadata": {},
   "outputs": [],
   "source": []
  }
 ],
 "metadata": {
  "kernelspec": {
   "display_name": "Python 3",
   "language": "python",
   "name": "python3"
  },
  "language_info": {
   "codemirror_mode": {
    "name": "ipython",
    "version": 3
   },
   "file_extension": ".py",
   "mimetype": "text/x-python",
   "name": "python",
   "nbconvert_exporter": "python",
   "pygments_lexer": "ipython3",
   "version": "3.7.4"
  }
 },
 "nbformat": 4,
 "nbformat_minor": 2
}
