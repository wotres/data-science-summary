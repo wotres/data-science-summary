{
 "cells": [
  {
   "cell_type": "markdown",
   "metadata": {},
   "source": [
    "SVM (Support Vector Machine)\n",
    "\n",
    "두 데이터를 구분하는 가장 안정적인 판별(결정) 경계선을 찾은뒤 이를 기준으로 데이터 구분\n",
    "\n",
    "판별경계선에서 가장 가까운 값을 지지벡터(support vector) 라고 하며 경계선을 분류 경계면이라고함\n",
    "\n",
    "두 분류 경계면 사이를 마진(margin)이라고 하며 이를 최대화 하는것이 목적 == 최대한 구분 잘하는것\n",
    "\n",
    "=> 분류시 오류를 최소하하는데 이떄 라그랑즈 승수법이라는것을 이용해 최적의 결정경계(초평면)를 찾음\n",
    "\n",
    "초평면(hyperplane)이란? 간단하게 차원이 p-1 차원인 부분 공간 => 즉, 2차원 그림에서는 선, 3차원에서는 평면\n",
    "\n",
    "선형 / 비선형 모두 분류 가능 \n",
    "\n",
    "선형일때 => kernel: linear\n",
    "\n",
    "비선형일때 => kernel: rbf, poly"
   ]
  },
  {
   "cell_type": "code",
   "execution_count": 4,
   "metadata": {},
   "outputs": [
    {
     "data": {
      "text/plain": [
       "array([1])"
      ]
     },
     "execution_count": 4,
     "metadata": {},
     "output_type": "execute_result"
    }
   ],
   "source": [
    "# 간단...\n",
    "from sklearn import svm\n",
    "X = [[0, 0], [1, 1]]\n",
    "y = [0, 1]\n",
    "# kernel \n",
    "clf = svm.SVC(kernel='linear')\n",
    "clf.fit(X, y)\n",
    "clf.predict([[2., 2.]])"
   ]
  },
  {
   "cell_type": "code",
   "execution_count": null,
   "metadata": {},
   "outputs": [],
   "source": []
  }
 ],
 "metadata": {
  "kernelspec": {
   "display_name": "Python 3",
   "language": "python",
   "name": "python3"
  },
  "language_info": {
   "codemirror_mode": {
    "name": "ipython",
    "version": 3
   },
   "file_extension": ".py",
   "mimetype": "text/x-python",
   "name": "python",
   "nbconvert_exporter": "python",
   "pygments_lexer": "ipython3",
   "version": "3.7.4"
  }
 },
 "nbformat": 4,
 "nbformat_minor": 2
}
