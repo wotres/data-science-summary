{
 "cells": [
  {
   "cell_type": "markdown",
   "metadata": {},
   "source": [
    "ALS (Alternating Least Squares)\n",
    "\n",
    "행렬분해 기법\n",
    "\n",
    "사용자와 아이템 하나를 상수로 두며 번갈아 가며 학습\n",
    "\n",
    "loss function 에서 신뢰도를 추가해줌. => 평점이 남아있지않은 데이터를 완전히 무시하는것보다는 0으로 신뢰도가 낮은것으로 해석"
   ]
  },
  {
   "cell_type": "code",
   "execution_count": 92,
   "metadata": {},
   "outputs": [
    {
     "name": "stdout",
     "output_type": "stream",
     "text": [
      "  user item  rate\n",
      "0  196  242   3.0\n",
      "1  186  302   3.0\n",
      "2   22  377   1.0\n"
     ]
    },
    {
     "data": {
      "text/plain": [
       "<surprise.trainset.Trainset at 0x240bfa50608>"
      ]
     },
     "execution_count": 92,
     "metadata": {},
     "output_type": "execute_result"
    }
   ],
   "source": [
    "# user item  rate 로 이뤄진 데이터셋 SVD 알고리즘을 이용한 ALS 분석\n",
    "from surprise import SVD\n",
    "from surprise import Dataset, Reader\n",
    "from surprise import accuracy\n",
    "import pandas as pd\n",
    "from surprise.model_selection import KFold, train_test_split, cross_validate\n",
    "data = Dataset.load_builtin('ml-100k')\n",
    "\n",
    "# DataFrame 형식으로 변환하여 데이터 확인\n",
    "df = pd.DataFrame(data.raw_ratings, columns=[\"user\", \"item\", \"rate\", \"id\"])\n",
    "df = df.drop(columns=['id'])\n",
    "df.rate.unique()\n",
    "# rating 최대 최소 점수 구함\n",
    "reader = Reader(rating_scale=(1,5))\n",
    "\n",
    "# 데이터 셋 확인\n",
    "print(df.head(3))\n",
    "data = Dataset.load_from_df(df, reader)\n",
    "trainset, testset = train_test_split(data, test_size=0.3)\n",
    "train\n",
    "\n",
    "\n",
    "# # train\n",
    "# options = {\n",
    "#     'method': 'als',\n",
    "#     'n_epochs': 5,\n",
    "#     'reg_u': 12,\n",
    "#     'reg_i': 5\n",
    "# }\n",
    "\n",
    "# algo = SVD()\n",
    "# algo.fit(trainset)\n",
    "# predictions = algo.test(testset)\n",
    "\n",
    "# accuracy.rmse(predictions)\n"
   ]
  },
  {
   "cell_type": "code",
   "execution_count": 85,
   "metadata": {},
   "outputs": [
    {
     "name": "stdout",
     "output_type": "stream",
     "text": [
      "RMSE: 0.9463\n",
      "RMSE: 0.9497\n",
      "RMSE: 0.9456\n"
     ]
    },
    {
     "data": {
      "text/plain": [
       "0.9471833071883663"
      ]
     },
     "execution_count": 85,
     "metadata": {},
     "output_type": "execute_result"
    }
   ],
   "source": [
    "import numpy as np\n",
    "cv = KFold(3)\n",
    "acc = np.zeros(3)\n",
    "for i, (trainset, testset) in enumerate(cv.split(data)):\n",
    "    algo.fit(trainset)\n",
    "    predictions = algo.test(testset)\n",
    "    acc[i] = accuracy.rmse(predictions, verbose=True)\n",
    "\n",
    "acc.mean()\n",
    "\n",
    "# cross_validate(algo, train, measures=['RMSE'], cv=3, verbose=True)\n"
   ]
  },
  {
   "cell_type": "code",
   "execution_count": 86,
   "metadata": {},
   "outputs": [
    {
     "name": "stdout",
     "output_type": "stream",
     "text": [
      "Evaluating RMSE, MAE of algorithm SVD on 3 split(s).\n",
      "\n",
      "                  Fold 1  Fold 2  Fold 3  Mean    Std     \n",
      "RMSE (testset)    0.9435  0.9379  0.9477  0.9430  0.0040  \n",
      "MAE (testset)     0.7446  0.7409  0.7477  0.7444  0.0028  \n",
      "Fit time          6.05    7.22    7.17    6.81    0.54    \n",
      "Test time         0.54    0.51    0.58    0.54    0.03    \n"
     ]
    },
    {
     "data": {
      "text/plain": [
       "{'test_rmse': array([0.9435456 , 0.93789071, 0.94769544]),\n",
       " 'test_mae': array([0.74458924, 0.74093843, 0.74767652]),\n",
       " 'fit_time': (6.047534942626953, 7.218194007873535, 7.165929317474365),\n",
       " 'test_time': (0.5396904945373535, 0.513709306716919, 0.5796470642089844)}"
      ]
     },
     "execution_count": 86,
     "metadata": {},
     "output_type": "execute_result"
    }
   ],
   "source": [
    "algo = SVD()\n",
    "\n",
    "cross_validate(algo, data, measures=['RMSE', 'MAE'], cv=3, verbose=True)"
   ]
  },
  {
   "cell_type": "code",
   "execution_count": null,
   "metadata": {},
   "outputs": [],
   "source": []
  }
 ],
 "metadata": {
  "kernelspec": {
   "display_name": "Python 3",
   "language": "python",
   "name": "python3"
  },
  "language_info": {
   "codemirror_mode": {
    "name": "ipython",
    "version": 3
   },
   "file_extension": ".py",
   "mimetype": "text/x-python",
   "name": "python",
   "nbconvert_exporter": "python",
   "pygments_lexer": "ipython3",
   "version": "3.7.4"
  }
 },
 "nbformat": 4,
 "nbformat_minor": 2
}
