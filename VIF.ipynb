{
 "cells": [
  {
   "cell_type": "markdown",
   "metadata": {},
   "source": [
    "VIF(Variance Inflation Factor) 분산팽창지수 \n",
    "\n",
    "=> 다중공선성 판단에 쓰임 => 10이상 보통 다중공선성이 있다 판단\n",
    "\n",
    "특정 독립변수를 다른 독립변수로 선형 회귀한 성능 => 즉 다른 것으로도 나타낼수 있음 \n",
    "\n",
    "=> 다른 변수에 의존적일수록 VIF 가 커짐 => 높게 나타난것 제거(drop)\n",
    "\n",
    "제거후 다시 실험 해보면 다중 공선성 제거된 경우 많음"
   ]
  },
  {
   "cell_type": "code",
   "execution_count": 2,
   "metadata": {},
   "outputs": [
    {
     "name": "stdout",
     "output_type": "stream",
     "text": [
      "제거전 :  2926.8005772468828\n",
      "   features  VIF Factor\n",
      "0     const    1.005335\n",
      "1       age    1.197504\n",
      "2       sex    1.286974\n",
      "3       bmi    1.529922\n",
      "4        bp    1.424025\n",
      "5        s1   58.778888\n",
      "6        s2   39.250774\n",
      "7        s3   14.104281\n",
      "8        s4    9.294533\n",
      "9        s5    9.887398\n",
      "10       s6    1.537123\n",
      "제거후\n",
      "  features  VIF Factor\n",
      "0    const    1.005335\n",
      "1      age    1.196224\n",
      "2      sex    1.282946\n",
      "3      bmi    1.516272\n",
      "4       bp    1.417268\n",
      "5       s2    3.052908\n",
      "6       s3    3.858518\n",
      "7       s4    8.467318\n",
      "8       s5    2.350765\n",
      "9       s6    1.537046\n",
      "제거후 :  2940.1669788600166\n"
     ]
    },
    {
     "name": "stderr",
     "output_type": "stream",
     "text": [
      "C:\\Users\\carl\\Anaconda3\\lib\\site-packages\\numpy\\core\\fromnumeric.py:2389: FutureWarning: Method .ptp is deprecated and will be removed in a future version. Use numpy.ptp instead.\n",
      "  return ptp(axis=axis, out=out, **kwargs)\n"
     ]
    }
   ],
   "source": [
    "from statsmodels.api import OLS, add_constant\n",
    "from sklearn import datasets\n",
    "from sklearn.model_selection import train_test_split\n",
    "import pandas as pd\n",
    "datas = datasets.load_diabetes()\n",
    "datas.target\n",
    "df = pd.DataFrame(datas.data, columns = datas.feature_names)\n",
    "y = pd.DataFrame(datas.target, columns = ['y'])\n",
    "df = pd.concat([df, y], axis=1)\n",
    "train, test = train_test_split(df, test_size=0.3, random_state=123)\n",
    "train_x = add_constant(train)\n",
    "model = OLS(train.y, train_x.drop(columns='y')).fit()\n",
    "\n",
    "test_x = add_constant(test)\n",
    "pred = model.predict(test_x.drop(columns='y'))\n",
    "from sklearn.metrics import mean_squared_error\n",
    "print('제거전 : ' , mean_squared_error(test.y, pred))\n",
    "from statsmodels.stats.outliers_influence import variance_inflation_factor\n",
    "vif = pd.DataFrame()\n",
    "vif['features'] = train_x.drop(columns='y').columns\n",
    "vif['VIF Factor'] = [variance_inflation_factor(train_x.drop(columns='y').values, i) for i in range(train_x.drop(columns='y').shape[1])]\n",
    "# vif 확인후 다중공선성 높게 나타난 변수 제거 drop\n",
    "print(vif)\n",
    "train_x = train_x.drop(columns=['s1'])\n",
    "train_x\n",
    "vif = pd.DataFrame()\n",
    "vif['features'] = train_x.drop(columns='y').columns\n",
    "vif['VIF Factor'] = [variance_inflation_factor(train_x.drop(columns='y').values, i) for i in range(train_x.drop(columns='y').shape[1])]\n",
    "# vif 확인후 다중공선성 높게 나타난 변수 제거 drop\n",
    "print('제거후')\n",
    "print(vif)\n",
    "# 제거한 후 학습 \n",
    "test_x = test_x.drop(columns=['s1'])\n",
    "model = OLS(train.y, train_x.drop(columns='y')).fit()\n",
    "pred = model.predict(test_x.drop(columns='y'))\n",
    "print('제거후 : ' , mean_squared_error(test.y, pred))"
   ]
  }
 ],
 "metadata": {
  "kernelspec": {
   "display_name": "Python 3",
   "language": "python",
   "name": "python3"
  },
  "language_info": {
   "codemirror_mode": {
    "name": "ipython",
    "version": 3
   },
   "file_extension": ".py",
   "mimetype": "text/x-python",
   "name": "python",
   "nbconvert_exporter": "python",
   "pygments_lexer": "ipython3",
   "version": "3.7.4"
  }
 },
 "nbformat": 4,
 "nbformat_minor": 2
}
